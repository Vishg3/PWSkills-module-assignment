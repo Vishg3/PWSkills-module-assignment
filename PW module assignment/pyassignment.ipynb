{
 "cells": [
  {
   "cell_type": "code",
   "execution_count": 1,
   "id": "364952e6-504e-4f53-938e-c3756679dd2a",
   "metadata": {},
   "outputs": [
    {
     "data": {
      "text/plain": [
       "['freedom_fighter', 'Mohan', 'dash', 'karam', 'chandra', 'gandhi', 'Bapu']"
      ]
     },
     "execution_count": 1,
     "metadata": {},
     "output_type": "execute_result"
    }
   ],
   "source": [
    "#Q1.3\n",
    "name = [\"Mohan\", \"dash\", \"karam\", \"chandra\",\"gandhi\",\"Bapu\"]\n",
    "#a\n",
    "name.insert(0,\"freedom_fighter\")\n",
    "name"
   ]
  },
  {
   "cell_type": "code",
   "execution_count": 2,
   "id": "94130014-4a96-4612-b5cc-5786a67aed38",
   "metadata": {},
   "outputs": [
    {
     "name": "stdout",
     "output_type": "stream",
     "text": [
      "6\n"
     ]
    }
   ],
   "source": [
    "#b\n",
    "name = [\"freedomFighter\",\"Bapuji\",\"MOhan\" \"dash\", \"karam\",\"chandra\",\"gandhi\"]\n",
    "length1=len((name[-len(name)+1:-1:2]))\n",
    "length2=len((name[-len(name)+1:-1]))\n",
    "print(length1+length2)"
   ]
  },
  {
   "cell_type": "code",
   "execution_count": 3,
   "id": "226ddd86-90e9-4d7e-8775-1470a7d5704c",
   "metadata": {
    "tags": []
   },
   "outputs": [],
   "source": [
    "#It slices a portion starting from the second element from the end (`-len(name)+1`) up to the second last element (`-1`). \n",
    "#The slice `name[-len(name)+1:-1:2]` selects elements with a step of 2, resulting in `[\"Bapuji\", \"karam\"]`. The length of \n",
    "#this slice (`length1`) is calculated as 2. Similarly, the slice `name[-len(name)+1:-1]` selects elements without a step, \n",
    "#resulting in `[\"Bapuji\", \"MOhandash\", \"karam\", \"chandra\"]`, and its length (`length2`) is 4. Adding these lengths \n",
    "#(`length1 + length2`) gives the final output of 6."
   ]
  },
  {
   "cell_type": "code",
   "execution_count": 4,
   "id": "b652e824-e34c-4b39-8ea0-04dad7c0d7bd",
   "metadata": {},
   "outputs": [
    {
     "data": {
      "text/plain": [
       "['freedomFighter',\n",
       " 'Bapuji',\n",
       " 'MOhandash',\n",
       " 'karam',\n",
       " 'chandra',\n",
       " 'gandhi',\n",
       " 'NetaJi',\n",
       " 'Bose']"
      ]
     },
     "execution_count": 4,
     "metadata": {},
     "output_type": "execute_result"
    }
   ],
   "source": [
    "#c\n",
    "name.extend([\"NetaJi\",\"Bose\"])\n",
    "name"
   ]
  },
  {
   "cell_type": "code",
   "execution_count": 6,
   "id": "16f72271-79ec-4cb1-acd0-42b35d3d47d0",
   "metadata": {},
   "outputs": [
    {
     "name": "stdout",
     "output_type": "stream",
     "text": [
      "['Mohan', 'dash', 'karam', 'chandra', 'gandi', 'Bapuji']\n"
     ]
    }
   ],
   "source": [
    "#d\n",
    "name = [\"Bapuji\", \"dash\", \"karam\", \"chandra\",\"gandi\",\"Mohan\"]\n",
    "temp=name[-1]\n",
    "name[-1]=name[0]\n",
    "name[0]=temp\n",
    "print(name)\n",
    "#temp = \"Mohan\""
   ]
  },
  {
   "cell_type": "code",
   "execution_count": 7,
   "id": "266fb805-b170-4ead-afb0-a5d4bfdd31eb",
   "metadata": {},
   "outputs": [
    {
     "name": "stdout",
     "output_type": "stream",
     "text": [
      "2\n",
      "4\n",
      "7\n"
     ]
    }
   ],
   "source": [
    "#Q1.4\n",
    "animal = ['Human','cat','mat','cat','rat','Human', 'Lion']\n",
    "print(animal.count('Human'))\n",
    "print(animal.index('rat'))\n",
    "print(len(animal))"
   ]
  },
  {
   "cell_type": "code",
   "execution_count": 11,
   "id": "7430e641-8d09-4b7f-9fb2-f9e214a3d306",
   "metadata": {},
   "outputs": [],
   "source": [
    "#Q1.5\n",
    "tuple1=(10,20,\"Apple\",3.4,'a',[\"master\",\"ji\"],(\"sita\",\"geeta\",22),[{\"roll_no\":1},{\"name\":\"Navneet\"}])"
   ]
  },
  {
   "cell_type": "code",
   "execution_count": 12,
   "id": "135596fb-2c78-431f-8bd0-3bd38d8e3754",
   "metadata": {},
   "outputs": [
    {
     "name": "stdout",
     "output_type": "stream",
     "text": [
      "8\n"
     ]
    }
   ],
   "source": [
    "#a\n",
    "print(len(tuple1))"
   ]
  },
  {
   "cell_type": "code",
   "execution_count": 13,
   "id": "85aa09ab-fbe4-4ff8-86f5-26a81fe04be4",
   "metadata": {},
   "outputs": [
    {
     "name": "stdout",
     "output_type": "stream",
     "text": [
      "Navneet\n"
     ]
    }
   ],
   "source": [
    "#b\n",
    "print(tuple1[-1][-1][\"name\"])"
   ]
  },
  {
   "cell_type": "code",
   "execution_count": 16,
   "id": "af943e86-faab-471d-9e8c-4ba043b61bca",
   "metadata": {},
   "outputs": [
    {
     "name": "stdout",
     "output_type": "stream",
     "text": [
      "1\n"
     ]
    }
   ],
   "source": [
    "#c\n",
    "print(tuple1[7][0][\"roll_no\"])"
   ]
  },
  {
   "cell_type": "code",
   "execution_count": 17,
   "id": "c967a1a3-2200-4fd6-804d-436b5428c417",
   "metadata": {},
   "outputs": [
    {
     "name": "stdout",
     "output_type": "stream",
     "text": [
      "ji\n"
     ]
    }
   ],
   "source": [
    "#d\n",
    "print(tuple1[-3][1])"
   ]
  },
  {
   "cell_type": "code",
   "execution_count": 18,
   "id": "585fcb87-3618-4185-88e3-b9c07d56768a",
   "metadata": {},
   "outputs": [
    {
     "name": "stdout",
     "output_type": "stream",
     "text": [
      "22\n"
     ]
    }
   ],
   "source": [
    "#e\n",
    "print(tuple1[6][2])"
   ]
  },
  {
   "cell_type": "code",
   "execution_count": 19,
   "id": "04a02661-3355-4722-a9d5-da4f8d19f3c8",
   "metadata": {},
   "outputs": [
    {
     "name": "stdin",
     "output_type": "stream",
     "text": [
      "Enter the color of the traffic signal:  Green\n"
     ]
    },
    {
     "name": "stdout",
     "output_type": "stream",
     "text": [
      "Go\n"
     ]
    }
   ],
   "source": [
    "#Q1.6\n",
    "def traffic_signal(color):\n",
    "    if color.lower() == 'red':\n",
    "        print(\"Stop\")\n",
    "    elif color.lower() == 'yellow':\n",
    "        print(\"Stay\")\n",
    "    elif color.lower() == 'green':\n",
    "        print(\"Go\")\n",
    "    else:\n",
    "        print(\"Invalid color\")\n",
    "\n",
    "signal_color = input(\"Enter the color of the traffic signal: \")\n",
    "traffic_signal(signal_color)"
   ]
  },
  {
   "cell_type": "code",
   "execution_count": 21,
   "id": "b9dab557-1d6e-48b8-9ab0-c9ea16c0a802",
   "metadata": {},
   "outputs": [
    {
     "name": "stdout",
     "output_type": "stream",
     "text": [
      "1. Addition\n",
      "2. Subtraction\n",
      "3. Multiplication\n",
      "4. Division\n"
     ]
    },
    {
     "name": "stdin",
     "output_type": "stream",
     "text": [
      "Enter choice:  3\n",
      "Enter first number:  2\n",
      "Enter second number:  4\n"
     ]
    },
    {
     "name": "stdout",
     "output_type": "stream",
     "text": [
      "2.0 * 4.0 = 8.0\n"
     ]
    }
   ],
   "source": [
    "#Q1.7\n",
    "def add(x, y):\n",
    "    return x + y\n",
    "def subtract(x, y):\n",
    "    return x - y\n",
    "def multiply(x, y):\n",
    "    return x * y\n",
    "def divide(x, y):\n",
    "    if y == 0:\n",
    "        return \"Error: Division by zero\"\n",
    "    else:\n",
    "        return x / y\n",
    "def calculator():\n",
    "    print(\"1. Addition\")\n",
    "    print(\"2. Subtraction\")\n",
    "    print(\"3. Multiplication\")\n",
    "    print(\"4. Division\")\n",
    "    choice = input(\"Enter choice: \")\n",
    "    num1 = float(input(\"Enter first number: \"))\n",
    "    num2 = float(input(\"Enter second number: \"))\n",
    "    if choice == '1':\n",
    "        print(f\"{num1} + {num2} = {add(num1, num2)}\")\n",
    "    elif choice == '2':\n",
    "        print(f\"{num1} - {num2} = {subtract(num1, num2)}\")\n",
    "    elif choice == '3':\n",
    "        print(f\"{num1} * {num2} = {multiply(num1, num2)}\")\n",
    "    elif choice == '4':\n",
    "        print(f\"{num1} / {num2} = {divide(num1, num2)}\")\n",
    "    else:\n",
    "        print(\"Invalid input\")\n",
    "calculator()"
   ]
  },
  {
   "cell_type": "code",
   "execution_count": 22,
   "id": "c71f1bd1-6847-402b-899b-c1fb2f7c62c9",
   "metadata": {},
   "outputs": [
    {
     "name": "stdout",
     "output_type": "stream",
     "text": [
      "The largest number among 49, 60, and 13 is: 60\n"
     ]
    }
   ],
   "source": [
    "#Q1.8\n",
    "num1 = 49\n",
    "num2 = 60\n",
    "num3 = 13\n",
    "largest = num1 if (num1 >= num2 and num1 >= num3) else (num2 if (num2 >= num1 and num2 >= num3) else num3)\n",
    "print(f\"The largest number among {num1}, {num2}, and {num3} is: {largest}\")"
   ]
  },
  {
   "cell_type": "code",
   "execution_count": 24,
   "id": "6921f205-4921-42f6-9cbe-198d5b2cfafc",
   "metadata": {},
   "outputs": [
    {
     "data": {
      "text/plain": [
       "[1, 2, 4, 8]"
      ]
     },
     "execution_count": 24,
     "metadata": {},
     "output_type": "execute_result"
    }
   ],
   "source": [
    "#Q1.9\n",
    "def find_factors(num):\n",
    "    factors = []\n",
    "    i = 1\n",
    "    while i <= num:\n",
    "        if num % i == 0:\n",
    "            factors.append(i) \n",
    "        i += 1\n",
    "    return factors\n",
    "find_factors(8)"
   ]
  },
  {
   "cell_type": "code",
   "execution_count": 27,
   "id": "ca2a2be3-3fae-41de-b1dd-9d8654beac6c",
   "metadata": {},
   "outputs": [
    {
     "name": "stdin",
     "output_type": "stream",
     "text": [
      "Enter a number (enter a negative number to stop):  2\n",
      "Enter a number (enter a negative number to stop):  4\n",
      "Enter a number (enter a negative number to stop):  -3\n"
     ]
    },
    {
     "data": {
      "text/plain": [
       "6"
      ]
     },
     "execution_count": 27,
     "metadata": {},
     "output_type": "execute_result"
    }
   ],
   "source": [
    "#Q1.10\n",
    "def sum_positive_numbers():\n",
    "    sum_positive = 0\n",
    "    while True:\n",
    "        num = int(input(\"Enter a number (enter a negative number to stop): \"))\n",
    "        if num < 0:\n",
    "            break\n",
    "        sum_positive += num\n",
    "    return sum_positive\n",
    "sum_positive_numbers()"
   ]
  },
  {
   "cell_type": "code",
   "execution_count": 28,
   "id": "448d5f56-d3cf-4208-bbe6-3bfb9677d156",
   "metadata": {},
   "outputs": [
    {
     "name": "stdout",
     "output_type": "stream",
     "text": [
      "Prime numbers between 2 and 100:\n",
      "2\n",
      "3\n",
      "5\n",
      "7\n",
      "11\n",
      "13\n",
      "17\n",
      "19\n",
      "23\n",
      "29\n",
      "31\n",
      "37\n",
      "41\n",
      "43\n",
      "47\n",
      "53\n",
      "59\n",
      "61\n",
      "67\n",
      "71\n",
      "73\n",
      "79\n",
      "83\n",
      "89\n",
      "97\n"
     ]
    }
   ],
   "source": [
    "#Q1.11\n",
    "def is_prime(num):\n",
    "    if num <= 1:\n",
    "        return False\n",
    "    for i in range(2, num):\n",
    "        if num % i == 0:\n",
    "            return False\n",
    "    return True\n",
    "\n",
    "print(\"Prime numbers between 2 and 100:\")\n",
    "for num in range(2, 101):\n",
    "    prime = True\n",
    "    for i in range(2, int(num ** 0.5) + 1):\n",
    "        if num % i == 0:\n",
    "            prime = False\n",
    "            break\n",
    "    if prime:\n",
    "        print(num)"
   ]
  },
  {
   "cell_type": "code",
   "execution_count": 30,
   "id": "f214c376-7503-4a8d-9c77-45930f72ca42",
   "metadata": {},
   "outputs": [
    {
     "name": "stdin",
     "output_type": "stream",
     "text": [
      "Enter the marks for subject 1:  75\n",
      "Enter the marks for subject 2:  89\n",
      "Enter the marks for subject 3:  92\n",
      "Enter the marks for subject 4:  85\n",
      "Enter the marks for subject 5:  77\n"
     ]
    },
    {
     "name": "stdout",
     "output_type": "stream",
     "text": [
      "Marks obtained:\n",
      "Subject 1: 75\n",
      "Subject 2: 89\n",
      "Subject 3: 92\n",
      "Subject 4: 85\n",
      "Subject 5: 77\n",
      "Total marks: 418\n",
      "Percentage: 83.6\n",
      "Grade: B\n"
     ]
    }
   ],
   "source": [
    "#Q1.12\n",
    "def calculate_grade(marks):\n",
    "  total_marks = sum(marks)\n",
    "  percentage = total_marks / 5\n",
    "  if percentage > 85:\n",
    "    return \"A\"\n",
    "  elif percentage >= 75:\n",
    "    return \"B\"\n",
    "  elif percentage >= 50:\n",
    "    return \"C\"\n",
    "  elif percentage > 30:\n",
    "    return \"D\"\n",
    "  else:\n",
    "    return \"Reappear\"\n",
    "\n",
    "def main():\n",
    "  marks = []\n",
    "  for i in range(5):\n",
    "    subject = input(\"Enter the marks for subject {}: \".format(i + 1))\n",
    "    marks.append(int(subject))\n",
    "\n",
    "  print(\"Marks obtained:\")\n",
    "  for i, mark in enumerate(marks):\n",
    "    print(\"Subject {}: {}\".format(i + 1, mark))\n",
    "\n",
    "  total_marks = sum(marks)\n",
    "  percentage = total_marks / 5\n",
    "  print(\"Total marks:\", total_marks)\n",
    "  print(\"Percentage:\", percentage)\n",
    "\n",
    "  grade = calculate_grade(marks)\n",
    "  print(\"Grade:\", grade)\n",
    "\n",
    "if __name__ == \"__main__\":\n",
    "  main()"
   ]
  },
  {
   "cell_type": "code",
   "execution_count": 31,
   "id": "4673e5af-476e-496e-9786-6f104b0dbc02",
   "metadata": {},
   "outputs": [
    {
     "name": "stdin",
     "output_type": "stream",
     "text": [
      "Enter a wavelength (nm):  567\n"
     ]
    },
    {
     "name": "stdout",
     "output_type": "stream",
     "text": [
      "Green\n"
     ]
    }
   ],
   "source": [
    "#Q1.13\n",
    "def get_color(wavelength):\n",
    "  if 400 <= wavelength <= 440:\n",
    "    return \"Violet\"\n",
    "  elif 440 <= wavelength <= 460:\n",
    "    return \"Indigo\"\n",
    "  elif 460 <= wavelength <= 500:\n",
    "    return \"Blue\"\n",
    "  elif 500 <= wavelength <= 570:\n",
    "    return \"Green\"\n",
    "  elif 570 <= wavelength <= 590:\n",
    "    return \"Yellow\"\n",
    "  elif 590 <= wavelength <= 620:\n",
    "    return \"Orange\"\n",
    "  elif 620 <= wavelength <= 720:\n",
    "    return \"Red\"\n",
    "  else:\n",
    "    return \"Invisible\"\n",
    "\n",
    "while True:\n",
    "  try:\n",
    "    wavelength = float(input(\"Enter a wavelength (nm): \"))\n",
    "    color = get_color(wavelength)\n",
    "    print(color)\n",
    "    break\n",
    "  except ValueError:\n",
    "    print(\"Invalid input. Please enter a numerical value for wavelength.\")"
   ]
  },
  {
   "cell_type": "code",
   "execution_count": 34,
   "id": "1824a671-f70f-4776-9794-cc9765f646b6",
   "metadata": {},
   "outputs": [
    {
     "name": "stdout",
     "output_type": "stream",
     "text": [
      "Gravitational force between Earth and Sun: 3.5423960813684973e+22 N\n",
      "Gravitational force between Moon and Earth: 1.982022545652681e+20 N\n",
      "The Earth is more attracted to the Sun because force_earth_sun > force_moon_earth\n"
     ]
    }
   ],
   "source": [
    "#Q1.14\n",
    "G = 6.6743e-11 \n",
    "mass_sun = 1.989e30\n",
    "mass_earth = 5.972e24\n",
    "mass_moon = 7.34767309e22\n",
    "distance_earth_sun = 1.496e11\n",
    "distance_moon_earth = 3.844e8\n",
    "\n",
    "def gravitational_force(mass1, mass2, distance):\n",
    "  return G * mass1 * mass2 / distance**2\n",
    "\n",
    "force_earth_sun = gravitational_force(mass_earth, mass_sun, distance_earth_sun)\n",
    "force_moon_earth = gravitational_force(mass_moon, mass_earth, distance_moon_earth)\n",
    "\n",
    "print(\"Gravitational force between Earth and Sun:\", force_earth_sun, \"N\")\n",
    "print(\"Gravitational force between Moon and Earth:\", force_moon_earth, \"N\")\n",
    "\n",
    "if force_earth_sun > force_moon_earth:\n",
    "  print(\"The Earth is more attracted to the Sun because force_earth_sun > force_moon_earth\")\n",
    "elif force_earth_sun < force_moon_earth:\n",
    "  print(\"The Earth is more attracted to the Moon.\")\n",
    "else:\n",
    "  print(\"The Earth is equally attracted to the Sun and Moon.\")"
   ]
  },
  {
   "cell_type": "code",
   "execution_count": 3,
   "id": "a1563cfb-de8e-47d0-8c69-4022bdf10354",
   "metadata": {},
   "outputs": [
    {
     "name": "stdout",
     "output_type": "stream",
     "text": [
      "Initial Information of Student 1:\n",
      "Name: Tim\n",
      "Age: 25\n",
      "Roll Number: S1001\n",
      "\n",
      "Initial Information of Student 2:\n",
      "Name: Peter\n",
      "Age: 26\n",
      "Roll Number: S1002\n",
      "\n",
      "Updated Information of Student 1:\n",
      "Name: Tim Smith\n",
      "Age: 22\n",
      "Roll Number: S1001\n",
      "\n",
      "Updated Information of Student 2:\n",
      "Name: Peter\n",
      "Age: 26\n",
      "Roll Number: S2002\n"
     ]
    }
   ],
   "source": [
    "#Q2\n",
    "class Student:\n",
    "    def __init__(self, name, age, roll_number):\n",
    "        self.__name = name\n",
    "        self.__age = age\n",
    "        self.__roll_number = roll_number\n",
    "\n",
    "    def get_name(self):\n",
    "        return self.__name\n",
    "    \n",
    "    def set_name(self, name):\n",
    "        self.__name = name\n",
    "\n",
    "    def get_age(self):\n",
    "        return self.__age\n",
    "    \n",
    "    def set_age(self, age):\n",
    "        self.__age = age\n",
    "\n",
    "    def get_roll_number(self):\n",
    "        return self.__roll_number\n",
    "    \n",
    "    def set_roll_number(self, roll_number):\n",
    "        self.__roll_number = roll_number\n",
    "\n",
    "    def display_info(self):\n",
    "        print(f\"Name: {self.__name}\")\n",
    "        print(f\"Age: {self.__age}\")\n",
    "        print(f\"Roll Number: {self.__roll_number}\")\n",
    "\n",
    "    def update_details(self, name=None, age=None, roll_number=None):\n",
    "        if name is not None:\n",
    "            self.set_name(name)\n",
    "        if age is not None:\n",
    "            self.set_age(age)\n",
    "        if roll_number is not None:\n",
    "            self.set_roll_number(roll_number)\n",
    "\n",
    "student1 = Student(\"Tim\", 25, \"S1001\")\n",
    "student2 = Student(\"Peter\", 26, \"S1002\")\n",
    "\n",
    "print(\"Initial Information of Student 1:\")\n",
    "student1.display_info()\n",
    "\n",
    "print(\"\\nInitial Information of Student 2:\")\n",
    "student2.display_info()\n",
    "\n",
    "student1.update_details(name=\"Tim Smith\", age=22)\n",
    "print(\"\\nUpdated Information of Student 1:\")\n",
    "student1.display_info()\n",
    "\n",
    "student2.update_details(roll_number=\"S2002\")\n",
    "print(\"\\nUpdated Information of Student 2:\")\n",
    "student2.display_info()"
   ]
  },
  {
   "cell_type": "code",
   "execution_count": 5,
   "id": "3e6a23ca-635e-4be4-b93e-46334ff9e869",
   "metadata": {},
   "outputs": [
    {
     "name": "stdout",
     "output_type": "stream",
     "text": [
      "Initial Information of Book 1:\n",
      "Book Name: Harry Potter and the Goblet of Fire\n",
      "Author: J. K. Rowling\n",
      "Availability: Available\n",
      "\n",
      "Initial Information of Book 2:\n",
      "Book Name: To Kill a Mockingbird\n",
      "Author: Harper Lee\n",
      "Availability: Not Available\n",
      "\n",
      "Borrowing Book 1:\n",
      "You have successfully borrowed 'Harry Potter and the Goblet of Fire'.\n",
      "Book Name: Harry Potter and the Goblet of Fire\n",
      "Author: J. K. Rowling\n",
      "Availability: Not Available\n",
      "\n",
      "Trying to borrow Book 1 again:\n",
      "Sorry, 'Harry Potter and the Goblet of Fire' is currently not available.\n",
      "\n",
      "Returning Book 1:\n",
      "You have successfully returned 'Harry Potter and the Goblet of Fire'.\n",
      "Book Name: Harry Potter and the Goblet of Fire\n",
      "Author: J. K. Rowling\n",
      "Availability: Available\n",
      "\n",
      "Trying to return Book 1 again:\n",
      "'Harry Potter and the Goblet of Fire' was not borrowed.\n",
      "\n",
      "Borrowing Book 2:\n",
      "Sorry, 'To Kill a Mockingbird' is currently not available.\n",
      "Book Name: To Kill a Mockingbird\n",
      "Author: Harper Lee\n",
      "Availability: Not Available\n"
     ]
    }
   ],
   "source": [
    "#Q3\n",
    "class LibraryBook:\n",
    "    def __init__(self, book_name, author, availability_status=True):\n",
    "        self.__book_name = book_name\n",
    "        self.__author = author\n",
    "        self.__availability_status = availability_status\n",
    "    \n",
    "    def get_book_name(self):\n",
    "        return self.__book_name\n",
    "\n",
    "    def get_author(self):\n",
    "        return self.__author\n",
    "\n",
    "    def get_availability_status(self):\n",
    "        return self.__availability_status\n",
    "\n",
    "    def borrow_book(self):\n",
    "        if self.__availability_status:\n",
    "            self.__availability_status = False\n",
    "            print(f\"You have successfully borrowed '{self.__book_name}'.\")\n",
    "        else:\n",
    "            print(f\"Sorry, '{self.__book_name}' is currently not available.\")\n",
    "\n",
    "    def return_book(self):\n",
    "        if not self.__availability_status:\n",
    "            self.__availability_status = True\n",
    "            print(f\"You have successfully returned '{self.__book_name}'.\")\n",
    "        else:\n",
    "            print(f\"'{self.__book_name}' was not borrowed.\")\n",
    "\n",
    "    def display_info(self):\n",
    "        availability = \"Available\" if self.__availability_status else \"Not Available\"\n",
    "        print(f\"Book Name: {self.__book_name}\")\n",
    "        print(f\"Author: {self.__author}\")\n",
    "        print(f\"Availability: {availability}\")\n",
    "\n",
    "book1 = LibraryBook(\"Harry Potter and the Goblet of Fire\", \"J. K. Rowling\")\n",
    "book2 = LibraryBook(\"To Kill a Mockingbird\", \"Harper Lee\", False)\n",
    "\n",
    "print(\"Initial Information of Book 1:\")\n",
    "book1.display_info()\n",
    "\n",
    "print(\"\\nInitial Information of Book 2:\")\n",
    "book2.display_info()\n",
    "\n",
    "print(\"\\nBorrowing Book 1:\")\n",
    "book1.borrow_book()\n",
    "book1.display_info()\n",
    "\n",
    "print(\"\\nTrying to borrow Book 1 again:\")\n",
    "book1.borrow_book()\n",
    "\n",
    "print(\"\\nReturning Book 1:\")\n",
    "book1.return_book()\n",
    "book1.display_info()\n",
    "\n",
    "print(\"\\nTrying to return Book 1 again:\")\n",
    "book1.return_book()\n",
    "\n",
    "print(\"\\nBorrowing Book 2:\")\n",
    "book2.borrow_book()\n",
    "book2.display_info()"
   ]
  },
  {
   "cell_type": "code",
   "execution_count": 7,
   "id": "35f4afd4-c937-48d2-91d9-9a4b1c6ecf80",
   "metadata": {},
   "outputs": [
    {
     "name": "stdout",
     "output_type": "stream",
     "text": [
      "\n",
      "Savings Account Transactions:\n",
      "Account Number: SA123\n",
      "Balance: $1000.00\n",
      "Deposited $300.00. New balance: $1300.00\n",
      "Withdrew $250.00. New balance: $1050.00\n",
      "Added interest: $21.00. New balance: $1071.00\n",
      "Account Number: SA123\n",
      "Balance: $1071.00\n",
      "\n",
      "Checking Account Transactions:\n",
      "Account Number: CA123\n",
      "Balance: $500.00\n",
      "Deposited $300.00. New balance: $800.00\n",
      "Withdrew $1000.00. New balance: $-200.00\n",
      "Overdraft limit exceeded or invalid withdrawal amount.\n",
      "Account Number: CA123\n",
      "Balance: $-200.00\n"
     ]
    }
   ],
   "source": [
    "#Q4\n",
    "class BankAccount:\n",
    "    def __init__(self, account_number, balance=0.0):\n",
    "        self._account_number = account_number\n",
    "        self._balance = balance\n",
    "    \n",
    "    def deposit(self, amount):\n",
    "        if amount > 0:\n",
    "            self._balance += amount\n",
    "            print(f\"Deposited ${amount:.2f}. New balance: ${self._balance:.2f}\")\n",
    "        else:\n",
    "            print(\"Deposit amount must be positive.\")\n",
    "    \n",
    "    def withdraw(self, amount):\n",
    "        if amount > 0 and amount <= self._balance:\n",
    "            self._balance -= amount\n",
    "            print(f\"Withdrew ${amount:.2f}. New balance: ${self._balance:.2f}\")\n",
    "        else:\n",
    "            print(\"Insufficient funds or invalid withdrawal amount.\")\n",
    "    \n",
    "    def balance_inquiry(self):\n",
    "        print(f\"Account Number: {self._account_number}\")\n",
    "        print(f\"Balance: ${self._balance:.2f}\")\n",
    "\n",
    "class SavingsAccount(BankAccount):\n",
    "    def __init__(self, account_number, balance=0.0, interest_rate=0.02):\n",
    "        super().__init__(account_number, balance)\n",
    "        self._interest_rate = interest_rate\n",
    "    \n",
    "    def add_interest(self):\n",
    "        interest = self._balance * self._interest_rate\n",
    "        self._balance += interest\n",
    "        print(f\"Added interest: ${interest:.2f}. New balance: ${self._balance:.2f}\")\n",
    "\n",
    "class CheckingAccount(BankAccount):\n",
    "    def __init__(self, account_number, balance=0.0, overdraft_limit=500.0):\n",
    "        super().__init__(account_number, balance)\n",
    "        self._overdraft_limit = overdraft_limit\n",
    "    \n",
    "    def withdraw(self, amount):\n",
    "        if amount > 0 and self._balance - amount >= -self._overdraft_limit:\n",
    "            self._balance -= amount\n",
    "            print(f\"Withdrew ${amount:.2f}. New balance: ${self._balance:.2f}\")\n",
    "        else:\n",
    "            print(\"Overdraft limit exceeded or invalid withdrawal amount.\")\n",
    "\n",
    "savings = SavingsAccount(\"SA123\", 1000.0)\n",
    "print(\"\\nSavings Account Transactions:\")\n",
    "savings.balance_inquiry()\n",
    "savings.deposit(300)\n",
    "savings.withdraw(250)\n",
    "savings.add_interest()\n",
    "savings.balance_inquiry()\n",
    "\n",
    "checking = CheckingAccount(\"CA123\", 500.0)\n",
    "print(\"\\nChecking Account Transactions:\")\n",
    "checking.balance_inquiry()\n",
    "checking.deposit(300)\n",
    "checking.withdraw(1000) \n",
    "checking.withdraw(2000)  \n",
    "checking.balance_inquiry()"
   ]
  },
  {
   "cell_type": "code",
   "execution_count": 8,
   "id": "6495bd65-d596-4459-ac0b-97b950e7f549",
   "metadata": {},
   "outputs": [
    {
     "name": "stdout",
     "output_type": "stream",
     "text": [
      "Dog sound:\n",
      "Woof! Woof!\n",
      "Cat sound:\n",
      "Meow! Meow!\n"
     ]
    }
   ],
   "source": [
    "#Q5\n",
    "class Animal:\n",
    "    def make_sound(self):\n",
    "        pass\n",
    "\n",
    "class Dog(Animal):\n",
    "    def make_sound(self):\n",
    "        print(\"Woof! Woof!\")\n",
    "\n",
    "class Cat(Animal):\n",
    "    def make_sound(self):\n",
    "        print(\"Meow! Meow!\")\n",
    "\n",
    "dog = Dog()\n",
    "cat = Cat()\n",
    "\n",
    "print(\"Dog sound:\")\n",
    "dog.make_sound()\n",
    "\n",
    "print(\"Cat sound:\")\n",
    "cat.make_sound()"
   ]
  },
  {
   "cell_type": "code",
   "execution_count": 10,
   "id": "f201c2d6-1363-420a-bca7-3c023c4ff0c8",
   "metadata": {},
   "outputs": [
    {
     "name": "stdout",
     "output_type": "stream",
     "text": [
      "Added Pizza to the menu.\n",
      "Added Burger to the menu.\n",
      "Added Coffee to the menu.\n",
      "Added Wine to the menu.\n",
      "\n",
      "Current Menu:\n",
      "ID: 140190597728336\n",
      "Name: Pizza\n",
      "Description: Veggie extravaganza pizza\n",
      "Price: $12.99\n",
      "Category: Main Course\n",
      "Cuisine: Italian\n",
      "--------------------\n",
      "ID: 140190599614848\n",
      "Name: Burger\n",
      "Description: Veg whopper burger\n",
      "Price: $9.99\n",
      "Category: Main Course\n",
      "Cuisine: American\n",
      "--------------------\n",
      "ID: 140190599617488\n",
      "Name: Coffee\n",
      "Description: Filter coffee\n",
      "Price: $2.99\n",
      "Category: Beverage\n",
      "Alcoholic: No\n",
      "--------------------\n",
      "ID: 140190599624544\n",
      "Name: Wine\n",
      "Description: Red wine\n",
      "Price: $6.99\n",
      "Category: Beverage\n",
      "Alcoholic: Yes\n",
      "--------------------\n",
      "Updated item with ID 140190597728336.\n",
      "\n",
      "Updated Menu:\n",
      "ID: 140190597728336\n",
      "Name: Pizza\n",
      "Description: Veggie extravaganza pizza with extra toppings\n",
      "Price: $14.99\n",
      "Category: Main Course\n",
      "Cuisine: Italian\n",
      "--------------------\n",
      "ID: 140190599614848\n",
      "Name: Burger\n",
      "Description: Veg whopper burger\n",
      "Price: $9.99\n",
      "Category: Main Course\n",
      "Cuisine: American\n",
      "--------------------\n",
      "ID: 140190599617488\n",
      "Name: Coffee\n",
      "Description: Filter coffee\n",
      "Price: $2.99\n",
      "Category: Beverage\n",
      "Alcoholic: No\n",
      "--------------------\n",
      "ID: 140190599624544\n",
      "Name: Wine\n",
      "Description: Red wine\n",
      "Price: $6.99\n",
      "Category: Beverage\n",
      "Alcoholic: Yes\n",
      "--------------------\n",
      "Removed Coffee from the menu.\n",
      "\n",
      "Menu after removing an item:\n",
      "ID: 140190597728336\n",
      "Name: Pizza\n",
      "Description: Veggie extravaganza pizza with extra toppings\n",
      "Price: $14.99\n",
      "Category: Main Course\n",
      "Cuisine: Italian\n",
      "--------------------\n",
      "ID: 140190599614848\n",
      "Name: Burger\n",
      "Description: Veg whopper burger\n",
      "Price: $9.99\n",
      "Category: Main Course\n",
      "Cuisine: American\n",
      "--------------------\n",
      "ID: 140190599624544\n",
      "Name: Wine\n",
      "Description: Red wine\n",
      "Price: $6.99\n",
      "Category: Beverage\n",
      "Alcoholic: Yes\n",
      "--------------------\n"
     ]
    }
   ],
   "source": [
    "#Q6\n",
    "class MenuItem:\n",
    "    def __init__(self, name, description, price, category):\n",
    "        self.__id = id(self)  \n",
    "        self.name = name\n",
    "        self.description = description\n",
    "        self.price = price\n",
    "        self.category = category\n",
    "    def get_id(self):\n",
    "        return self.__id\n",
    "    def update(self, name=None, description=None, price=None, category=None):\n",
    "        if name is not None:\n",
    "            self.name = name\n",
    "        if description is not None:\n",
    "            self.description = description\n",
    "        if price is not None:\n",
    "            self.price = price\n",
    "        if category is not None:\n",
    "            self.category = category\n",
    "    def display(self):\n",
    "        print(f\"ID: {self.__id}\")\n",
    "        print(f\"Name: {self.name}\")\n",
    "        print(f\"Description: {self.description}\")\n",
    "        print(f\"Price: ${self.price:.2f}\")\n",
    "        print(f\"Category: {self.category}\")\n",
    "class FoodItem(MenuItem):\n",
    "    def __init__(self, name, description, price, category, cuisine):\n",
    "        super().__init__(name, description, price, category)\n",
    "        self.cuisine = cuisine\n",
    "    def display(self):\n",
    "        super().display()\n",
    "        print(f\"Cuisine: {self.cuisine}\")\n",
    "class BeverageItem(MenuItem):\n",
    "    def __init__(self, name, description, price, category, is_alcoholic):\n",
    "        super().__init__(name, description, price, category)\n",
    "        self.is_alcoholic = is_alcoholic\n",
    "    def display(self):\n",
    "        super().display()\n",
    "        print(f\"Alcoholic: {'Yes' if self.is_alcoholic else 'No'}\")\n",
    "class Menu:\n",
    "    def __init__(self):\n",
    "        self.menu_items = {}\n",
    "    def add_item(self, item):\n",
    "        self.menu_items[item.get_id()] = item\n",
    "        print(f\"Added {item.name} to the menu.\")\n",
    "    def remove_item(self, item_id):\n",
    "        if item_id in self.menu_items:\n",
    "            removed_item = self.menu_items.pop(item_id)\n",
    "            print(f\"Removed {removed_item.name} from the menu.\")\n",
    "        else:\n",
    "            print(\"Item not found in the menu.\")\n",
    "    def update_item(self, item_id, **kwargs):\n",
    "        if item_id in self.menu_items:\n",
    "            self.menu_items[item_id].update(**kwargs)\n",
    "            print(f\"Updated item with ID {item_id}.\")\n",
    "        else:\n",
    "            print(\"Item not found in the menu.\")\n",
    "    def display_menu(self):\n",
    "        for item in self.menu_items.values():\n",
    "            item.display()\n",
    "            print(\"-\" * 20)\n",
    "menu = Menu()\n",
    "pizza = FoodItem(\"Pizza\", \"Veggie extravaganza pizza\", 12.99, \"Main Course\", \"Italian\")\n",
    "burger = FoodItem(\"Burger\", \"Veg whopper burger\", 9.99, \"Main Course\", \"American\")\n",
    "coffee = BeverageItem(\"Coffee\", \"Filter coffee\", 2.99, \"Beverage\", False)\n",
    "wine = BeverageItem(\"Wine\", \"Red wine\", 6.99, \"Beverage\", True)\n",
    "menu.add_item(pizza)\n",
    "menu.add_item(burger)\n",
    "menu.add_item(coffee)\n",
    "menu.add_item(wine)\n",
    "print(\"\\nCurrent Menu:\")\n",
    "menu.display_menu()\n",
    "menu.update_item(pizza.get_id(), price=14.99, description=\"Veggie extravaganza pizza with extra toppings\")\n",
    "print(\"\\nUpdated Menu:\")\n",
    "menu.display_menu()\n",
    "menu.remove_item(coffee.get_id())\n",
    "print(\"\\nMenu after removing an item:\")\n",
    "menu.display_menu()"
   ]
  },
  {
   "cell_type": "code",
   "execution_count": 11,
   "id": "3b513108-48ff-4c46-baac-1a82c7787869",
   "metadata": {},
   "outputs": [
    {
     "name": "stdout",
     "output_type": "stream",
     "text": [
      "\n",
      "Suite Room Details:\n",
      "Room Number: 101\n",
      "Room Type: Suite\n",
      "Rate: $250\n",
      "Jacuzzi: Yes\n",
      "Availability: Available\n",
      "\n",
      "Standard Room Details:\n",
      "Room Number: 102\n",
      "Room Type: Standard\n",
      "Rate: $150\n",
      "Availability: Available\n",
      "\n",
      "Booking Suite Room:\n",
      "Room 101 has been booked.\n",
      "\n",
      "Booking Standard Room:\n",
      "Room 102 has been booked.\n",
      "\n",
      "Trying to book already booked rooms:\n",
      "Room 101 is already booked.\n",
      "Room 102 is already booked.\n",
      "\n",
      "Checking in guests:\n",
      "Guest checked into Room 101.\n",
      "Guest checked into Room 102.\n",
      "\n",
      "Checking out guests:\n",
      "Guest checked out of Room 101. Room is now available.\n",
      "Guest checked out of Room 102. Room is now available.\n",
      "\n",
      "Room Details after Checkout:\n",
      "Room Number: 101\n",
      "Room Type: Suite\n",
      "Rate: $250\n",
      "Jacuzzi: Yes\n",
      "Availability: Available\n",
      "Room Number: 102\n",
      "Room Type: Standard\n",
      "Rate: $150\n",
      "Availability: Available\n"
     ]
    }
   ],
   "source": [
    "#Q7\n",
    "class Room:\n",
    "    def __init__(self, room_number, room_type, rate):\n",
    "        self.__room_id = id(self) \n",
    "        self.__room_number = room_number\n",
    "        self.__room_type = room_type\n",
    "        self.__rate = rate\n",
    "        self.__is_available = True\n",
    "\n",
    "    def get_room_id(self):\n",
    "        return self.__room_id\n",
    "\n",
    "    def get_room_number(self):\n",
    "        return self.__room_number\n",
    "\n",
    "    def is_available(self):\n",
    "        return self.__is_available\n",
    "\n",
    "    def book_room(self):\n",
    "        if self.__is_available:\n",
    "            self.__is_available = False\n",
    "            print(f\"Room {self.__room_number} has been booked.\")\n",
    "        else:\n",
    "            print(f\"Room {self.__room_number} is already booked.\")\n",
    "\n",
    "    def check_in(self):\n",
    "        if not self.__is_available:\n",
    "            print(f\"Guest checked into Room {self.__room_number}.\")\n",
    "        else:\n",
    "            print(f\"Room {self.__room_number} is not booked yet.\")\n",
    "\n",
    "    def check_out(self):\n",
    "        if not self.__is_available:\n",
    "            self.__is_available = True\n",
    "            print(f\"Guest checked out of Room {self.__room_number}. Room is now available.\")\n",
    "        else:\n",
    "            print(f\"Room {self.__room_number} is already available.\")\n",
    "\n",
    "class SuiteRoom(Room):\n",
    "    def __init__(self, room_number, rate, has_jacuzzi):\n",
    "        super().__init__(room_number, \"Suite\", rate)\n",
    "        self.has_jacuzzi = has_jacuzzi\n",
    "\n",
    "    def display_details(self):\n",
    "        print(f\"Room Number: {self.get_room_number()}\")\n",
    "        print(f\"Room Type: Suite\")\n",
    "        print(f\"Rate: ${self._Room__rate}\")\n",
    "        print(f\"Jacuzzi: {'Yes' if self.has_jacuzzi else 'No'}\")\n",
    "        print(f\"Availability: {'Available' if self.is_available() else 'Booked'}\")\n",
    "\n",
    "class StandardRoom(Room):\n",
    "    def __init__(self, room_number, rate):\n",
    "        super().__init__(room_number, \"Standard\", rate)\n",
    "\n",
    "    def display_details(self):\n",
    "        print(f\"Room Number: {self.get_room_number()}\")\n",
    "        print(f\"Room Type: Standard\")\n",
    "        print(f\"Rate: ${self._Room__rate}\")\n",
    "        print(f\"Availability: {'Available' if self.is_available() else 'Booked'}\")\n",
    "\n",
    "suite_room = SuiteRoom(101, 250, True)\n",
    "standard_room = StandardRoom(102, 150)\n",
    "\n",
    "print(\"\\nSuite Room Details:\")\n",
    "suite_room.display_details()\n",
    "\n",
    "print(\"\\nStandard Room Details:\")\n",
    "standard_room.display_details()\n",
    "\n",
    "print(\"\\nBooking Suite Room:\")\n",
    "suite_room.book_room()\n",
    "\n",
    "print(\"\\nBooking Standard Room:\")\n",
    "standard_room.book_room()\n",
    "\n",
    "print(\"\\nTrying to book already booked rooms:\")\n",
    "suite_room.book_room()\n",
    "standard_room.book_room()\n",
    "\n",
    "print(\"\\nChecking in guests:\")\n",
    "suite_room.check_in()\n",
    "standard_room.check_in()\n",
    "\n",
    "print(\"\\nChecking out guests:\")\n",
    "suite_room.check_out()\n",
    "standard_room.check_out()\n",
    "\n",
    "print(\"\\nRoom Details after Checkout:\")\n",
    "suite_room.display_details()\n",
    "standard_room.display_details()"
   ]
  },
  {
   "cell_type": "code",
   "execution_count": 13,
   "id": "401ff595-ea47-4ec1-97ba-2135f680f0f5",
   "metadata": {},
   "outputs": [
    {
     "name": "stdout",
     "output_type": "stream",
     "text": [
      "\n",
      "Family Member Details:\n",
      "Member ID: 140190601165360\n",
      "Name: Sam Smith\n",
      "Age: 40\n",
      "Membership Type: Family\n",
      "Family Size: 4\n",
      "Membership Status: Active\n",
      "\n",
      "Individual Member Details:\n",
      "Member ID: 140190601165888\n",
      "Name: Kumar Swamy\n",
      "Age: 30\n",
      "Membership Type: Individual\n",
      "Membership Status: Active\n",
      "\n",
      "Registering Members:\n",
      "Member Sam Smith registered with Family membership.\n",
      "Member Kumar Swamy registered with Individual membership.\n",
      "\n",
      "Renewing Memberships:\n",
      "Membership for Sam Smith has been renewed.\n",
      "Membership for Kumar Swamy has been renewed.\n",
      "\n",
      "Cancelling Memberships:\n",
      "Membership for Sam Smith has been cancelled.\n",
      "Membership for Kumar Swamy has been cancelled.\n",
      "\n",
      "Trying to renew cancelled memberships:\n",
      "Cannot renew membership for Sam Smith as it is not active.\n",
      "Cannot renew membership for Kumar Swamy as it is not active.\n",
      "\n",
      "Member Details after Cancelling Memberships:\n",
      "Member ID: 140190601165360\n",
      "Name: Sam Smith\n",
      "Age: 40\n",
      "Membership Type: Family\n",
      "Family Size: 4\n",
      "Membership Status: Inactive\n",
      "Member ID: 140190601165888\n",
      "Name: Kumar Swamy\n",
      "Age: 30\n",
      "Membership Type: Individual\n",
      "Membership Status: Inactive\n"
     ]
    }
   ],
   "source": [
    "#Q8\n",
    "class Member:\n",
    "    def __init__(self, name, age, membership_type):\n",
    "        self.__member_id = id(self)  \n",
    "        self.name = name\n",
    "        self.age = age\n",
    "        self.membership_type = membership_type\n",
    "        self.__is_active = True\n",
    "\n",
    "    def get_member_id(self):\n",
    "        return self.__member_id\n",
    "\n",
    "    def is_active(self):\n",
    "        return self.__is_active\n",
    "\n",
    "    def register(self):\n",
    "        print(f\"Member {self.name} registered with {self.membership_type} membership.\")\n",
    "\n",
    "    def renew_membership(self):\n",
    "        if self.__is_active:\n",
    "            print(f\"Membership for {self.name} has been renewed.\")\n",
    "        else:\n",
    "            print(f\"Cannot renew membership for {self.name} as it is not active.\")\n",
    "\n",
    "    def cancel_membership(self):\n",
    "        if self.__is_active:\n",
    "            self.__is_active = False\n",
    "            print(f\"Membership for {self.name} has been cancelled.\")\n",
    "        else:\n",
    "            print(f\"Membership for {self.name} is already cancelled.\")\n",
    "\n",
    "class FamilyMember(Member):\n",
    "    def __init__(self, name, age, family_size):\n",
    "        super().__init__(name, age, \"Family\")\n",
    "        self.family_size = family_size\n",
    "\n",
    "    def display_details(self):\n",
    "        print(f\"Member ID: {self.get_member_id()}\")\n",
    "        print(f\"Name: {self.name}\")\n",
    "        print(f\"Age: {self.age}\")\n",
    "        print(f\"Membership Type: Family\")\n",
    "        print(f\"Family Size: {self.family_size}\")\n",
    "        print(f\"Membership Status: {'Active' if self.is_active() else 'Inactive'}\")\n",
    "\n",
    "class IndividualMember(Member):\n",
    "    def __init__(self, name, age):\n",
    "        super().__init__(name, age, \"Individual\")\n",
    "\n",
    "    def display_details(self):\n",
    "        print(f\"Member ID: {self.get_member_id()}\")\n",
    "        print(f\"Name: {self.name}\")\n",
    "        print(f\"Age: {self.age}\")\n",
    "        print(f\"Membership Type: Individual\")\n",
    "        print(f\"Membership Status: {'Active' if self.is_active() else 'Inactive'}\")\n",
    "\n",
    "family_member = FamilyMember(\"Sam Smith\", 40, 4)\n",
    "individual_member = IndividualMember(\"Kumar Swamy\", 30)\n",
    "\n",
    "print(\"\\nFamily Member Details:\")\n",
    "family_member.display_details()\n",
    "\n",
    "print(\"\\nIndividual Member Details:\")\n",
    "individual_member.display_details()\n",
    "\n",
    "print(\"\\nRegistering Members:\")\n",
    "family_member.register()\n",
    "individual_member.register()\n",
    "\n",
    "print(\"\\nRenewing Memberships:\")\n",
    "family_member.renew_membership()\n",
    "individual_member.renew_membership()\n",
    "\n",
    "print(\"\\nCancelling Memberships:\")\n",
    "family_member.cancel_membership()\n",
    "individual_member.cancel_membership()\n",
    "\n",
    "print(\"\\nTrying to renew cancelled memberships:\")\n",
    "family_member.renew_membership()\n",
    "individual_member.renew_membership()\n",
    "\n",
    "print(\"\\nMember Details after Cancelling Memberships:\")\n",
    "family_member.display_details()\n",
    "individual_member.display_details()"
   ]
  },
  {
   "cell_type": "code",
   "execution_count": 15,
   "id": "595f96f5-84ff-4f04-b530-88d687df294e",
   "metadata": {},
   "outputs": [
    {
     "name": "stdout",
     "output_type": "stream",
     "text": [
      "\n",
      "Adding Attendees:\n",
      "Attendee Bob Brown added to the event Board Meeting.\n",
      "Attendee Alice Johnson added to the event Music Concert.\n",
      "\n",
      "Private Event Details:\n",
      "Event ID: 140190598599088\n",
      "Name: Board Meeting\n",
      "Date: 2024-07-10\n",
      "Time: 10:00 AM\n",
      "Location: Conference Room\n",
      "Total Attendees: 1\n",
      "Invite List: John Turner, Elaine Smith\n",
      "\n",
      "Public Event Details:\n",
      "Event ID: 140190599616624\n",
      "Name: Music Concert\n",
      "Date: 2024-07-15\n",
      "Time: 6:00 PM\n",
      "Location: City Park\n",
      "Total Attendees: 1\n",
      "Max Attendees: 500\n",
      "\n",
      "Removing Attendees:\n",
      "Attendee Alice Brown not found in the event Board Meeting.\n",
      "Attendee Bob Johnson not found in the event Music Concert.\n",
      "\n",
      "Private Event Details after Removal:\n",
      "Event ID: 140190598599088\n",
      "Name: Board Meeting\n",
      "Date: 2024-07-10\n",
      "Time: 10:00 AM\n",
      "Location: Conference Room\n",
      "Total Attendees: 1\n",
      "Invite List: John Turner, Elaine Smith\n",
      "\n",
      "Public Event Details after Removal:\n",
      "Event ID: 140190599616624\n",
      "Name: Music Concert\n",
      "Date: 2024-07-15\n",
      "Time: 6:00 PM\n",
      "Location: City Park\n",
      "Total Attendees: 1\n",
      "Max Attendees: 500\n"
     ]
    }
   ],
   "source": [
    "#Q9\n",
    "class Event:\n",
    "    def __init__(self, name, date, time, location):\n",
    "        self.__event_id = id(self)  \n",
    "        self.name = name\n",
    "        self.date = date\n",
    "        self.time = time\n",
    "        self.location = location\n",
    "        self.__attendees = []\n",
    "\n",
    "    def get_event_id(self):\n",
    "        return self.__event_id\n",
    "\n",
    "    def add_attendee(self, attendee):\n",
    "        self.__attendees.append(attendee)\n",
    "        print(f\"Attendee {attendee} added to the event {self.name}.\")\n",
    "\n",
    "    def remove_attendee(self, attendee):\n",
    "        if attendee in self.__attendees:\n",
    "            self.__attendees.remove(attendee)\n",
    "            print(f\"Attendee {attendee} removed from the event {self.name}.\")\n",
    "        else:\n",
    "            print(f\"Attendee {attendee} not found in the event {self.name}.\")\n",
    "\n",
    "    def get_total_attendees(self):\n",
    "        return len(self.__attendees)\n",
    "\n",
    "    def display_event_details(self):\n",
    "        print(f\"Event ID: {self.get_event_id()}\")\n",
    "        print(f\"Name: {self.name}\")\n",
    "        print(f\"Date: {self.date}\")\n",
    "        print(f\"Time: {self.time}\")\n",
    "        print(f\"Location: {self.location}\")\n",
    "        print(f\"Total Attendees: {self.get_total_attendees()}\")\n",
    "\n",
    "class PrivateEvent(Event):\n",
    "    def __init__(self, name, date, time, location, invite_list):\n",
    "        super().__init__(name, date, time, location)\n",
    "        self.invite_list = invite_list\n",
    "\n",
    "    def display_event_details(self):\n",
    "        super().display_event_details()\n",
    "        print(f\"Invite List: {', '.join(self.invite_list)}\")\n",
    "\n",
    "class PublicEvent(Event):\n",
    "    def __init__(self, name, date, time, location, max_attendees):\n",
    "        super().__init__(name, date, time, location)\n",
    "        self.max_attendees = max_attendees\n",
    "\n",
    "    def display_event_details(self):\n",
    "        super().display_event_details()\n",
    "        print(f\"Max Attendees: {self.max_attendees}\")\n",
    "\n",
    "private_event = PrivateEvent(\"Board Meeting\", \"2024-07-10\", \"10:00 AM\", \"Conference Room\", [\"John Turner\", \"Elaine Smith\"])\n",
    "public_event = PublicEvent(\"Music Concert\", \"2024-07-15\", \"6:00 PM\", \"City Park\", 500)\n",
    "\n",
    "print(\"\\nAdding Attendees:\")\n",
    "private_event.add_attendee(\"Bob Brown\")\n",
    "public_event.add_attendee(\"Alice Johnson\")\n",
    "\n",
    "print(\"\\nPrivate Event Details:\")\n",
    "private_event.display_event_details()\n",
    "\n",
    "print(\"\\nPublic Event Details:\")\n",
    "public_event.display_event_details()\n",
    "\n",
    "print(\"\\nRemoving Attendees:\")\n",
    "private_event.remove_attendee(\"Alice Brown\")\n",
    "public_event.remove_attendee(\"Bob Johnson\")\n",
    "\n",
    "print(\"\\nPrivate Event Details after Removal:\")\n",
    "private_event.display_event_details()\n",
    "\n",
    "print(\"\\nPublic Event Details after Removal:\")\n",
    "public_event.display_event_details()"
   ]
  },
  {
   "cell_type": "code",
   "execution_count": 16,
   "id": "85818c9b-eff5-4873-94aa-939336f24d17",
   "metadata": {},
   "outputs": [
    {
     "name": "stdout",
     "output_type": "stream",
     "text": [
      "\n",
      "Booking Seats:\n",
      "Seat booked on flight DF123.\n",
      "Seat booked on flight IF456.\n",
      "\n",
      "Domestic Flight Details:\n",
      "Flight ID: 140190597558096\n",
      "Flight Number: DF123\n",
      "Departure Airport: JFK\n",
      "Arrival Airport: LAX\n",
      "Departure Time: 08:00 AM\n",
      "Arrival Time: 11:00 AM\n",
      "Available Seats: 149\n",
      "Flight Type: Domestic\n",
      "\n",
      "International Flight Details:\n",
      "Flight ID: 140190597555696\n",
      "Flight Number: IF456\n",
      "Departure Airport: JFK\n",
      "Arrival Airport: LHR\n",
      "Departure Time: 07:00 PM\n",
      "Arrival Time: 07:00 AM\n",
      "Available Seats: 199\n",
      "Flight Type: International\n",
      "Passport Required: Yes\n",
      "\n",
      "Cancelling Reservations:\n",
      "Reservation cancelled on flight DF123.\n",
      "Reservation cancelled on flight IF456.\n",
      "\n",
      "Domestic Flight Details after Cancellation:\n",
      "Flight ID: 140190597558096\n",
      "Flight Number: DF123\n",
      "Departure Airport: JFK\n",
      "Arrival Airport: LAX\n",
      "Departure Time: 08:00 AM\n",
      "Arrival Time: 11:00 AM\n",
      "Available Seats: 150\n",
      "Flight Type: Domestic\n",
      "\n",
      "International Flight Details after Cancellation:\n",
      "Flight ID: 140190597555696\n",
      "Flight Number: IF456\n",
      "Departure Airport: JFK\n",
      "Arrival Airport: LHR\n",
      "Departure Time: 07:00 PM\n",
      "Arrival Time: 07:00 AM\n",
      "Available Seats: 200\n",
      "Flight Type: International\n",
      "Passport Required: Yes\n"
     ]
    }
   ],
   "source": [
    "#Q10\n",
    "class Flight:\n",
    "    def __init__(self, flight_number, departure_airport, arrival_airport, departure_time, arrival_time, total_seats):\n",
    "        self.__flight_id = id(self) \n",
    "        self.flight_number = flight_number\n",
    "        self.departure_airport = departure_airport\n",
    "        self.arrival_airport = arrival_airport\n",
    "        self.departure_time = departure_time\n",
    "        self.arrival_time = arrival_time\n",
    "        self.__available_seats = total_seats\n",
    "\n",
    "    def get_flight_id(self):\n",
    "        return self.__flight_id\n",
    "\n",
    "    def book_seat(self):\n",
    "        if self.__available_seats > 0:\n",
    "            self.__available_seats -= 1\n",
    "            print(f\"Seat booked on flight {self.flight_number}.\")\n",
    "        else:\n",
    "            print(f\"No available seats on flight {self.flight_number}.\")\n",
    "\n",
    "    def cancel_reservation(self):\n",
    "        self.__available_seats += 1\n",
    "        print(f\"Reservation cancelled on flight {self.flight_number}.\")\n",
    "\n",
    "    def get_remaining_seats(self):\n",
    "        return self.__available_seats\n",
    "\n",
    "    def display_flight_details(self):\n",
    "        print(f\"Flight ID: {self.get_flight_id()}\")\n",
    "        print(f\"Flight Number: {self.flight_number}\")\n",
    "        print(f\"Departure Airport: {self.departure_airport}\")\n",
    "        print(f\"Arrival Airport: {self.arrival_airport}\")\n",
    "        print(f\"Departure Time: {self.departure_time}\")\n",
    "        print(f\"Arrival Time: {self.arrival_time}\")\n",
    "        print(f\"Available Seats: {self.get_remaining_seats()}\")\n",
    "\n",
    "class DomesticFlight(Flight):\n",
    "    def __init__(self, flight_number, departure_airport, arrival_airport, departure_time, arrival_time, total_seats):\n",
    "        super().__init__(flight_number, departure_airport, arrival_airport, departure_time, arrival_time, total_seats)\n",
    "\n",
    "    def display_flight_details(self):\n",
    "        super().display_flight_details()\n",
    "        print(\"Flight Type: Domestic\")\n",
    "\n",
    "class InternationalFlight(Flight):\n",
    "    def __init__(self, flight_number, departure_airport, arrival_airport, departure_time, arrival_time, total_seats, passport_required):\n",
    "        super().__init__(flight_number, departure_airport, arrival_airport, departure_time, arrival_time, total_seats)\n",
    "        self.passport_required = passport_required\n",
    "\n",
    "    def display_flight_details(self):\n",
    "        super().display_flight_details()\n",
    "        print(\"Flight Type: International\")\n",
    "        print(f\"Passport Required: {'Yes' if self.passport_required else 'No'}\")\n",
    "\n",
    "domestic_flight = DomesticFlight(\"DF123\", \"JFK\", \"LAX\", \"08:00 AM\", \"11:00 AM\", 150)\n",
    "international_flight = InternationalFlight(\"IF456\", \"JFK\", \"LHR\", \"07:00 PM\", \"07:00 AM\", 200, True)\n",
    "\n",
    "print(\"\\nBooking Seats:\")\n",
    "domestic_flight.book_seat()\n",
    "international_flight.book_seat()\n",
    "\n",
    "print(\"\\nDomestic Flight Details:\")\n",
    "domestic_flight.display_flight_details()\n",
    "\n",
    "print(\"\\nInternational Flight Details:\")\n",
    "international_flight.display_flight_details()\n",
    "\n",
    "print(\"\\nCancelling Reservations:\")\n",
    "domestic_flight.cancel_reservation()\n",
    "international_flight.cancel_reservation()\n",
    "\n",
    "print(\"\\nDomestic Flight Details after Cancellation:\")\n",
    "domestic_flight.display_flight_details()\n",
    "\n",
    "print(\"\\nInternational Flight Details after Cancellation:\")\n",
    "international_flight.display_flight_details()"
   ]
  },
  {
   "cell_type": "raw",
   "id": "32b5d5be-167b-4c04-a1e5-de059a06600c",
   "metadata": {},
   "source": [
    "#Q13\n",
    "ecommerce/\n",
    "├── __init__.py  # Empty file to mark it as a package\n",
    "├── models.py     # Data models for products and orders\n",
    "├── product/\n",
    "│   ├── __init__.py  # Empty file to mark it as a sub-package\n",
    "│   └── manager.py   # Product management functionalities\n",
    "└── orders/\n",
    "    ├── __init__.py  # Empty file to mark it as a sub-package\n",
    "    └── processing.py  # Order processing functionalities"
   ]
  },
  {
   "cell_type": "code",
   "execution_count": 21,
   "id": "7a271e2e-6bac-4c26-9ad8-8a1399470498",
   "metadata": {},
   "outputs": [
    {
     "name": "stdout",
     "output_type": "stream",
     "text": [
      "Employee details have been written to employees.txt.\n"
     ]
    }
   ],
   "source": [
    "#Q16\n",
    "employees = [\n",
    "    {\"name\": \"Mark Williams\", \"age\": 30, \"salary\": 50000},\n",
    "    {\"name\": \"Elaine Smith\", \"age\": 25, \"salary\": 60000},\n",
    "    {\"name\": \"Michael Jackson\", \"age\": 35, \"salary\": 75000}\n",
    "]\n",
    "\n",
    "def write_employees_to_file(filename, employees):\n",
    "    with open(filename, 'w') as file:\n",
    "        for employee in employees:\n",
    "            file.write(f\"Name: {employee['name']}, Age: {employee['age']}, Salary: {employee['salary']}\\n\")\n",
    "\n",
    "if __name__ == \"__main__\":\n",
    "    filename = \"employees.txt\"\n",
    "    write_employees_to_file(filename, employees)\n",
    "    print(f\"Employee details have been written to {filename}.\")"
   ]
  },
  {
   "cell_type": "code",
   "execution_count": 22,
   "id": "ba2306b4-fadc-4f05-bb90-a2cd98df7989",
   "metadata": {},
   "outputs": [
    {
     "name": "stdout",
     "output_type": "stream",
     "text": [
      "Error: The file 'inventory.txt' was not found.\n"
     ]
    }
   ],
   "source": [
    "#Q17\n",
    "file_path = 'inventory.txt'\n",
    "try:\n",
    "    with open(file_path, 'r') as file:\n",
    "        for line in file:\n",
    "            print(line.strip()) \n",
    "except FileNotFoundError:\n",
    "    print(f\"Error: The file '{file_path}' was not found.\")\n",
    "except IOError as e:\n",
    "    print(f\"Error: {e}\")"
   ]
  },
  {
   "cell_type": "code",
   "execution_count": 23,
   "id": "b9110f71-2e07-4f88-9e77-10d621b713f7",
   "metadata": {},
   "outputs": [
    {
     "name": "stdout",
     "output_type": "stream",
     "text": [
      "Error: The file 'expenses.txt' was not found.\n"
     ]
    }
   ],
   "source": [
    "#Q18\n",
    "file_path = 'expenses.txt'\n",
    "try:\n",
    "    total_expenses = 0.0\n",
    "    with open(file_path, 'r') as file:\n",
    "        for line in file:\n",
    "            try:\n",
    "                expense_amount = float(line.strip())\n",
    "                total_expenses += expense_amount\n",
    "            except ValueError:\n",
    "                print(f\"Error: Invalid data found in '{file_path}'. Skipping this line.\")\n",
    "    print(f\"Total amount spent on expenses: ${total_expenses:.2f}\")\n",
    "except FileNotFoundError:\n",
    "    print(f\"Error: The file '{file_path}' was not found.\")\n",
    "except IOError as e:\n",
    "    print(f\"Error: {e}\")"
   ]
  },
  {
   "cell_type": "code",
   "execution_count": 24,
   "id": "73e69e6c-8378-43d6-8662-3e12841e0978",
   "metadata": {},
   "outputs": [
    {
     "name": "stdout",
     "output_type": "stream",
     "text": [
      "Error: The file 'paragraph.txt' was not found.\n"
     ]
    }
   ],
   "source": [
    "#Q19\n",
    "from collections import Counter\n",
    "import re\n",
    "\n",
    "file_path = 'paragraph.txt'\n",
    "try:\n",
    "    with open(file_path, 'r') as file:\n",
    "        paragraph = file.read()\n",
    "        words = re.findall(r'\\b\\w+\\b', paragraph.lower())\n",
    "        word_count = Counter(words)\n",
    "        print(\"Word\\t\\tCount\")\n",
    "        print(\"--------------------\")\n",
    "        for word, count in sorted(word_count.items()):\n",
    "            print(f\"{word}\\t\\t{count}\")\n",
    "except FileNotFoundError:\n",
    "    print(f\"Error: The file '{file_path}' was not found.\")\n",
    "except IOError as e:\n",
    "    print(f\"Error: {e}\")"
   ]
  },
  {
   "cell_type": "code",
   "execution_count": 2,
   "id": "2b78f276-9b1a-4f06-a547-7a51832ea68d",
   "metadata": {},
   "outputs": [
    {
     "data": {
      "text/plain": [
       "0.879310739389049"
      ]
     },
     "execution_count": 2,
     "metadata": {},
     "output_type": "execute_result"
    }
   ],
   "source": [
    "#Q24\n",
    "import numpy as np\n",
    "accountancy_marks=np.array([45, 70, 65, 30, 90, 40, 75, 85, 80, 60])\n",
    "statistics_marks=np.array([35, 90, 70, 40, 95, 40, 60, 80, 80, 50])\n",
    "sum_x=np.sum(accountancy_marks)\n",
    "sum_y=np.sum(statistics_marks)\n",
    "sum_x2=np.sum(accountancy_marks**2)\n",
    "sum_y2=np.sum(statistics_marks**2)\n",
    "sum_xy=np.sum(accountancy_marks*statistics_marks)\n",
    "n=len(accountancy_marks)\n",
    "numerator=n*sum_xy-sum_x*sum_y\n",
    "denominator=np.sqrt((n*sum_x2-sum_x**2)*(n*sum_y2-sum_y**2))\n",
    "correlation_coefficient=numerator/denominator\n",
    "correlation_coefficient"
   ]
  },
  {
   "cell_type": "code",
   "execution_count": 6,
   "id": "28cb2d0d-17de-4e32-ae57-fa53042eb1f0",
   "metadata": {},
   "outputs": [
    {
     "name": "stdout",
     "output_type": "stream",
     "text": [
      "(a) Mean values: x = 13.0, y = 17.0\n",
      "(b) Coefficient of correlation: r = 2.6666666666666665\n",
      "(c) Standard deviation of y: sigma_y = 2.6224718283646133\n"
     ]
    }
   ],
   "source": [
    "#Q27\n",
    "import numpy as np\n",
    "var_x=9\n",
    "A=np.array([[8,-10], [40,-18]])\n",
    "B=np.array([-66,214])\n",
    "x,y=np.linalg.solve(A,B)\n",
    "mean_x=x\n",
    "mean_y=y\n",
    "sigma_y=np.sqrt(var_x*(18**2)/(18**2+10**2))\n",
    "cov_xy=sigma_y*8\n",
    "r=cov_xy/(np.sqrt(var_x)*sigma_y)\n",
    "print(f\"(a) Mean values: x = {mean_x}, y = {mean_y}\")\n",
    "print(f\"(b) Coefficient of correlation: r = {r}\")\n",
    "print(f\"(c) Standard deviation of y: sigma_y = {sigma_y}\")"
   ]
  },
  {
   "cell_type": "code",
   "execution_count": 3,
   "id": "9790fd16-a420-48fd-9f0d-4bbe087323e6",
   "metadata": {},
   "outputs": [
    {
     "name": "stdout",
     "output_type": "stream",
     "text": [
      "F-Statistic: 6.743842364532019\n",
      "P-Value: 0.02918589502743675\n",
      "Reject the H0. There is a statistically significant difference in the whiteness readings between at least two of the detergents across the different water temperatures.\n"
     ]
    }
   ],
   "source": [
    "#Q38\n",
    "import numpy as np\n",
    "import scipy.stats as stats\n",
    "data = {\n",
    "    \"Cold Water\": [57, 55, 67],\n",
    "    \"Worm Water\": [49, 52, 68],\n",
    "    \"Hot Water\": [54, 46, 58]\n",
    "}\n",
    "detergents_A = [data[\"Cold Water\"][0], data[\"Worm Water\"][0], data[\"Hot Water\"][0]]\n",
    "detergents_B = [data[\"Cold Water\"][1], data[\"Worm Water\"][1], data[\"Hot Water\"][1]]\n",
    "detergents_C = [data[\"Cold Water\"][2], data[\"Worm Water\"][2], data[\"Hot Water\"][2]]\n",
    "f_statistic, p_value = stats.f_oneway(detergents_A, detergents_B, detergents_C)\n",
    "print(f\"F-Statistic: {f_statistic}\")\n",
    "print(f\"P-Value: {p_value}\")\n",
    "if p_value<0.05:\n",
    "    print('Reject the H0. There is a statistically significant difference in the whiteness readings between at least two of the detergents across the different water temperatures.')"
   ]
  },
  {
   "cell_type": "code",
   "execution_count": null,
   "id": "29646fef-6f7a-40ea-bf0d-7986eb68b689",
   "metadata": {},
   "outputs": [],
   "source": [
    "#Q39\n",
    "from flask import Flask\n",
    "app = Flask(__name__)\n",
    "\n",
    "@app.route('/')\n",
    "def hello():\n",
    "    return 'Hello, World!'\n",
    "\n",
    "if __name__ == '__main__':\n",
    "    app.run(debug=True)"
   ]
  },
  {
   "cell_type": "code",
   "execution_count": null,
   "id": "f4395cbb-2238-4a47-8b36-48ced14e8836",
   "metadata": {},
   "outputs": [],
   "source": [
    "#Q41\n",
    "@app.route('/user/<username>')\n",
    "def show_user_profile(username):\n",
    "    return f'User: {username}'"
   ]
  }
 ],
 "metadata": {
  "kernelspec": {
   "display_name": "Python 3 (ipykernel)",
   "language": "python",
   "name": "python3"
  },
  "language_info": {
   "codemirror_mode": {
    "name": "ipython",
    "version": 3
   },
   "file_extension": ".py",
   "mimetype": "text/x-python",
   "name": "python",
   "nbconvert_exporter": "python",
   "pygments_lexer": "ipython3",
   "version": "3.10.8"
  }
 },
 "nbformat": 4,
 "nbformat_minor": 5
}
